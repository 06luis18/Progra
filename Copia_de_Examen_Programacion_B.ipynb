{
  "nbformat": 4,
  "nbformat_minor": 0,
  "metadata": {
    "colab": {
      "name": "Copia de Examen Programacion - B.ipynb",
      "provenance": [],
      "collapsed_sections": [],
      "include_colab_link": true
    },
    "kernelspec": {
      "name": "python3",
      "display_name": "Python 3"
    }
  },
  "cells": [
    {
      "cell_type": "markdown",
      "metadata": {
        "id": "view-in-github",
        "colab_type": "text"
      },
      "source": [
        "<a href=\"https://colab.research.google.com/github/06luis18/Progra/blob/master/Copia_de_Examen_Programacion_B.ipynb\" target=\"_parent\"><img src=\"https://colab.research.google.com/assets/colab-badge.svg\" alt=\"Open In Colab\"/></a>"
      ]
    },
    {
      "cell_type": "markdown",
      "metadata": {
        "id": "y7Oq4Se1jAkk",
        "colab_type": "text"
      },
      "source": [
        "# EXAMEN PARCIAL DE PROGRAMACIÓN - B"
      ]
    },
    {
      "cell_type": "markdown",
      "metadata": {
        "id": "d6Dtx5cijHuN",
        "colab_type": "text"
      },
      "source": [
        "\n",
        "\n",
        "```\n",
        "\n",
        "```\n",
        "\n",
        "Nombres y apellidos: Luis Guillén Mantilla\n",
        "\n",
        "Código: 18160195"
      ]
    },
    {
      "cell_type": "markdown",
      "metadata": {
        "id": "V2Gv10h-SbX4",
        "colab_type": "text"
      },
      "source": [
        "***\n",
        "Instrucciones:\n",
        "- El examen es personal\n",
        "- Se puede usar internet\n",
        "- Una vez terminado, descargar en formato **.ipynb** su examen con su código de estudiante y subir a esta [carpeta compartida](https://drive.google.com/drive/u/0/folders/15-6dSuwz7EMO-CNYb0pMgxG-0WksCEv6) (ejemplo: 17160099.ipynb)\n",
        "***"
      ]
    },
    {
      "cell_type": "markdown",
      "metadata": {
        "id": "7M7qpUULGbos",
        "colab_type": "text"
      },
      "source": [
        "## Nivel 1 (1 pt c/u)"
      ]
    },
    {
      "cell_type": "markdown",
      "metadata": {
        "id": "be8dPw7dmTJu",
        "colab_type": "text"
      },
      "source": [
        "1. Explicar algunas diferencias entre un editor de texto y una interfaz de desarrollo."
      ]
    },
    {
      "cell_type": "code",
      "metadata": {
        "id": "2OKhImUpmbs6",
        "colab_type": "code",
        "outputId": "93f3372e-4c89-44ef-8cee-535f6a032b4f",
        "colab": {
          "base_uri": "https://localhost:8080/",
          "height": 34
        }
      },
      "source": [
        "##Los IDEs no trabajan con archivos y carpetas, en su lugar, emplean el concepto de Proyectos\n",
        "## También crean archivos adicionales al código para optimizar la experiencia del usuario\n",
        "\n",
        "\"Mientras que el editor de texto\"\n",
        "##Es un programa informático que permite crear y modificar archivos digitales compuestos únicamente por textos sin formato\n",
        "#Los editores de texto son incluidos en el sistema operativo o en algún paquete de software instalado, y se usan cuando se deben crear o modificar archivos de texto como archivos de configuración, lenguaje de programación interpretado (scripts) o el código fuente de algún programa."
      ],
      "execution_count": 0,
      "outputs": [
        {
          "output_type": "execute_result",
          "data": {
            "text/plain": [
              "'Mientras que el editor de texto'"
            ]
          },
          "metadata": {
            "tags": []
          },
          "execution_count": 103
        }
      ]
    },
    {
      "cell_type": "markdown",
      "metadata": {
        "id": "hYZm4UQxmchw",
        "colab_type": "text"
      },
      "source": [
        "2. Explicar cómo crear un repositorio virtual en Github y subir archivos a este."
      ]
    },
    {
      "cell_type": "code",
      "metadata": {
        "id": "46iKUN1inr6B",
        "colab_type": "code",
        "outputId": "daf2a9c2-3c8e-4cff-fd78-0eb0c7faef91",
        "colab": {
          "base_uri": "https://localhost:8080/",
          "height": 34
        }
      },
      "source": [
        "####Para crear un repositorio en Github, se sigue los siguientes pasos:\n",
        " \"1. Registrarse en Github\"\n",
        " \"2. Crear un repositorio con el botón \"+\", el cual esta ubicado en la parte superior a la derecha\"\n",
        " \"3. Apareceras en una pagina donde tendras que colocar un nombre, elegir si es publico o privado, y si deseas alguna descripción.\"  \n",
        " \n",
        "  ###Pasos para subir un archivo:\n",
        " \n",
        " #####Desde la web de github\n",
        "    ###Creamos un nuevo repositorio en https://github.com. Le damos nombre, descripción, seleccionamos si va a ser un proyecto publico o privado si es el caso, y dejamos el check de crear README sin marcar. Le damos a crear repositorio y con esto ya tenemos el repositorio donde alojaremos nuestro proyecto.\"\n",
        "    \n",
        "    \n",
        "    #####Desde la terminal del equipo donde esta el proyecto que queremos subir a github\n",
        "   ##Nos vamos a la carpeta del proyecto y ejecutamos estos comandos.\n",
        "\n",
        "  ##git init\n",
        "\n",
        "  ##git add .\n",
        "\n",
        "  ##git commit -m \"first commit\"\n",
        "\n",
        "  ##git remote add origin https://github.com/NOMBRE_USUARIO/NOMBRE_PROYECTO.git\n",
        "\n",
        "  ##git push -u origin master"
      ],
      "execution_count": 0,
      "outputs": [
        {
          "output_type": "execute_result",
          "data": {
            "text/plain": [
              "'3. Apareceras en una pagina donde tendras que colocar un nombre, elegir si es publico o privado, y si deseas alguna descripción.'"
            ]
          },
          "metadata": {
            "tags": []
          },
          "execution_count": 104
        }
      ]
    },
    {
      "cell_type": "markdown",
      "metadata": {
        "id": "YhnHyiU3mqRy",
        "colab_type": "text"
      },
      "source": [
        "3. ¿Por qué se dice que Python es un lenguaje **multiparadigma**?"
      ]
    },
    {
      "cell_type": "code",
      "metadata": {
        "colab_type": "code",
        "outputId": "0de8bd91-8c9b-4e22-abdb-2cd2afcdc9fe",
        "id": "kDzB60omwDOB",
        "colab": {
          "base_uri": "https://localhost:8080/",
          "height": 34
        }
      },
      "source": [
        "\"Phyton es un lenguaje multiparadigma ya que soporta la orientación a objetos, programación imperativa y, en menor medida, programación funcional.\""
      ],
      "execution_count": 0,
      "outputs": [
        {
          "output_type": "execute_result",
          "data": {
            "text/plain": [
              "'Phyton es un lenguaje multiparadigma ya que soporta la orientación a objetos, programación imperativa y, en menor medida, programación funcional.'"
            ]
          },
          "metadata": {
            "tags": []
          },
          "execution_count": 3
        }
      ]
    },
    {
      "cell_type": "markdown",
      "metadata": {
        "id": "fHDP4mj0wy6q",
        "colab_type": "text"
      },
      "source": [
        "4. Mencione 3 diferencias entre python2 y python3"
      ]
    },
    {
      "cell_type": "code",
      "metadata": {
        "id": "JyJgXrjWtnYz",
        "colab_type": "code",
        "outputId": "63c0cbfc-1a37-44f3-b8f0-df2c141a8307",
        "colab": {
          "base_uri": "https://localhost:8080/",
          "height": 34
        }
      },
      "source": [
        "    ##1. Al momento de imprimir\n",
        "  \n",
        "    ##En Python 3, la sentencia print es una función, por ende debemos encerrar lo que se imprime entre parentesis.\n",
        "    ##Mientras que en Python 2 no es necesario\n",
        "    \n",
        "    ##2. Para iterar un diccionario\n",
        "    \n",
        "    \"En Python2 podemos utilizar el método de iteritems() o items()\"\n",
        "    \"En cambio para Python3 solo se puede utilizar items()\"\n",
        "    \n",
        "    ##3. Comparación de tipos \n",
        "    \"Python 2 permite la comparación emtre objetos de distinto tipo\"\n",
        "    \"Mientras que Python3 es mas restrictivo, ya que nos brinda una excepción del tipo Type Error\"\n",
        "    "
      ],
      "execution_count": 0,
      "outputs": [
        {
          "output_type": "execute_result",
          "data": {
            "text/plain": [
              "'Mientras que Phyton3 es mas restrictivo, ya que nos brinda una excepción del tipo Type Error'"
            ]
          },
          "metadata": {
            "tags": []
          },
          "execution_count": 36
        }
      ]
    },
    {
      "cell_type": "markdown",
      "metadata": {
        "id": "nW8hXJnIxFyc",
        "colab_type": "text"
      },
      "source": [
        "5. Explicar las diferencias entre las estructuras de datos vistas en clase"
      ]
    },
    {
      "cell_type": "code",
      "metadata": {
        "id": "ArVmFmBv_zb-",
        "colab_type": "code",
        "colab": {}
      },
      "source": [
        "#list.append(n)\n",
        "#Añade un ítem al final de la lista.\n",
        "\n",
        "#list.count(n)\n",
        "#Devuelve el número de veces que n aparece en la lista\n",
        "\n",
        "#list.remove(x)\n",
        "#Quita el primer ítem de la lista cuyo valor sea x. Es un error si no existe tal ítem\n"
      ],
      "execution_count": 0,
      "outputs": []
    },
    {
      "cell_type": "markdown",
      "metadata": {
        "colab_type": "text",
        "id": "heaLpwrsBoBA"
      },
      "source": [
        "6. Calcule el resto de la siguiente ecuación\n",
        "\n",
        "$$ \\frac {2^5 - \\sqrt{6^2 - 5^2}} {15} $$"
      ]
    },
    {
      "cell_type": "code",
      "metadata": {
        "id": "bR3JFBbIMcih",
        "colab_type": "code",
        "outputId": "c832b3c7-8754-458a-8582-0528603e4e23",
        "colab": {
          "base_uri": "https://localhost:8080/",
          "height": 34
        }
      },
      "source": [
        "import math\n",
        "((2**5) - math.sqrt(6**2 - 5**2))%15\n"
      ],
      "execution_count": 0,
      "outputs": [
        {
          "output_type": "execute_result",
          "data": {
            "text/plain": [
              "13.683375209644602"
            ]
          },
          "metadata": {
            "tags": []
          },
          "execution_count": 3
        }
      ]
    },
    {
      "cell_type": "markdown",
      "metadata": {
        "id": "dRL33PiQKfeY",
        "colab_type": "text"
      },
      "source": [
        "7. Crear un diccionario con 3 llaves y que sus valores sean tuplas o listas. Finalmente guardalo como archivo **json**."
      ]
    },
    {
      "cell_type": "code",
      "metadata": {
        "id": "DEOM8GFqcdL0",
        "colab_type": "code",
        "colab": {}
      },
      "source": [
        "import json\n",
        "m = {\"paises\" : [\"Holanda\", \"Suecia\", \"Perú\"], \"ciudades\": [\"Amsterdam\",\"Lund\",\"Cajamarca\"], \"gentilicios\": [\"Holandes\", \"Sueco\", \"Peruano\"]}\n",
        "a= json.dumps(m)\n",
        "paises = open(\"paises.json\", \"w\")\n",
        "paises.write(a)\n",
        "paises.close()"
      ],
      "execution_count": 0,
      "outputs": []
    },
    {
      "cell_type": "markdown",
      "metadata": {
        "id": "Gq9EuuSzGx0n",
        "colab_type": "text"
      },
      "source": [
        "## Nivel 2 (2 pt c/u)"
      ]
    },
    {
      "cell_type": "markdown",
      "metadata": {
        "id": "kO-PPOvfnnBq",
        "colab_type": "text"
      },
      "source": [
        "1. Realizar el siguiente gráfico usando sentencias **for**"
      ]
    },
    {
      "cell_type": "code",
      "metadata": {
        "id": "cNZ4ednPIz-E",
        "colab_type": "code",
        "colab": {}
      },
      "source": [
        "* \n",
        "  *\n",
        "    *\n",
        "      *\n",
        "        *\n",
        "          *\n",
        "        *\n",
        "      *\n",
        "    *\n",
        "  *\n",
        "*"
      ],
      "execution_count": 0,
      "outputs": []
    },
    {
      "cell_type": "code",
      "metadata": {
        "id": "jBSYtBbKgU7G",
        "colab_type": "code",
        "outputId": "cf4a0cec-50d9-43fa-a492-75116227be26",
        "colab": {
          "base_uri": "https://localhost:8080/",
          "height": 204
        }
      },
      "source": [
        "def grafico(a):\n",
        "   for i in range(a):\n",
        "      print(2 * i * \" \", 1 * \"*\")\n",
        "   for i in range(a, -1, -1):\n",
        "      print(2 * i * \" \", 1 * \"*\")\n",
        "\n",
        "grafico(5)\n"
      ],
      "execution_count": 0,
      "outputs": [
        {
          "output_type": "stream",
          "text": [
            " *\n",
            "   *\n",
            "     *\n",
            "       *\n",
            "         *\n",
            "           *\n",
            "         *\n",
            "       *\n",
            "     *\n",
            "   *\n",
            " *\n"
          ],
          "name": "stdout"
        }
      ]
    },
    {
      "cell_type": "markdown",
      "metadata": {
        "id": "0GnE97p6Ju5o",
        "colab_type": "text"
      },
      "source": [
        "2. Crear una función que devuelva la media armónica de una lista"
      ]
    },
    {
      "cell_type": "code",
      "metadata": {
        "id": "YAGMGfXhQC5k",
        "colab_type": "code",
        "outputId": "799ecaaf-fb69-4bea-9bad-02f3f0ddf7aa",
        "colab": {
          "base_uri": "https://localhost:8080/",
          "height": 34
        }
      },
      "source": [
        "def med_armonica(n):\n",
        "  a = 0\n",
        "  for i in n:\n",
        "    a += 1/i\n",
        "    e = len(n)/a\n",
        "  print(e)\n",
        "\n",
        "med_armonica ([8,1,6])\n"
      ],
      "execution_count": 0,
      "outputs": [
        {
          "output_type": "stream",
          "text": [
            "2.32258064516129\n"
          ],
          "name": "stdout"
        }
      ]
    },
    {
      "cell_type": "markdown",
      "metadata": {
        "id": "IGmEYUUHH-w0",
        "colab_type": "text"
      },
      "source": [
        "3. Realizar una función que pida el valor de los tres lados de un triángulo y demuestre su existencia."
      ]
    },
    {
      "cell_type": "markdown",
      "metadata": {
        "id": "_a6PPs_6KwTz",
        "colab_type": "text"
      },
      "source": [
        "## Nivel 3 (3 pt c/u)"
      ]
    },
    {
      "cell_type": "markdown",
      "metadata": {
        "id": "_NLJHa9_088m",
        "colab_type": "text"
      },
      "source": [
        "1. Crear una función que invierta una frase e identifique si es palíndroma o no.\n",
        "\n",
        "    Ejemplo: \n",
        "\n",
        "    **\"Anita lava la tina\" --> \"anit al aval atinA\" (Es palíndroma)**\n",
        "\n",
        "    **\"Hola mundo\" --> \"odnum aloH\"                 (No es palíndroma)**"
      ]
    },
    {
      "cell_type": "code",
      "metadata": {
        "id": "7x6qqeNG6Eo_",
        "colab_type": "code",
        "outputId": "420d11d4-60cd-4677-a3e2-b154fd7950b3",
        "colab": {
          "base_uri": "https://localhost:8080/",
          "height": 68
        }
      },
      "source": [
        "m = input(\"colocar la frase: HEY \")\n",
        "print(m[::-1])\n",
        "if m == m[:: -1]:\n",
        "  print (\"{} Es una palabra palindroma\".format(m))\n",
        "else:\n",
        "  print (\"{} No es una palabra palindroma\".format(m))\n"
      ],
      "execution_count": 0,
      "outputs": [
        {
          "output_type": "stream",
          "text": [
            "colocar la frase: HEY amad ala dama\n",
            "amad ala dama\n",
            "amad ala dama Es una palabra palindroma\n"
          ],
          "name": "stdout"
        }
      ]
    },
    {
      "cell_type": "markdown",
      "metadata": {
        "id": "aGu8vTil2Ri7",
        "colab_type": "text"
      },
      "source": [
        "2. Crear una función que cuente la cantidad de letras que se repiten en un texto y las devuelva en un diccionario.\n",
        "\n",
        "    Ejemplo:\n",
        "    \n",
        "    **\"bienvenido\"**\n",
        "    \n",
        "    **{\"b\":1, \"i\":2, \"e\":2, \"n\":2, \"v\":1, \"d\":1, \"o\":1}**\n",
        "    "
      ]
    },
    {
      "cell_type": "code",
      "metadata": {
        "id": "jP78DTtW2j7V",
        "colab_type": "code",
        "outputId": "2e9fd184-084a-483d-83f6-9933e9c70132",
        "colab": {
          "base_uri": "https://localhost:8080/",
          "height": 34
        }
      },
      "source": [
        "lista = \"calidad\"\n",
        "d = {}\n",
        "for i in lista:\n",
        "  d[i] = lista.count(i)\n",
        "print(d)"
      ],
      "execution_count": 0,
      "outputs": [
        {
          "output_type": "stream",
          "text": [
            "{'c': 1, 'a': 2, 'l': 1, 'i': 1, 'd': 2}\n"
          ],
          "name": "stdout"
        }
      ]
    },
    {
      "cell_type": "markdown",
      "metadata": {
        "id": "PUh494U9OvbI",
        "colab_type": "text"
      },
      "source": [
        "3. Crear una función para calcular el área de una corona circular.\n",
        "\n",
        "![](https://encrypted-tbn0.gstatic.com/images?q=tbn:ANd9GcSK9qQ1LQWTwiIGOIhbd7GljoXsJIt1jIqIglPfeQr2L5ZU5M8V&s)"
      ]
    },
    {
      "cell_type": "code",
      "metadata": {
        "id": "6X82SfhaWHn5",
        "colab_type": "code",
        "outputId": "e892112d-8aa7-4888-c737-bf80643f45b0",
        "colab": {
          "base_uri": "https://localhost:8080/",
          "height": 34
        }
      },
      "source": [
        "import math\n",
        "def corona(R,r):\n",
        "  area = math.pi * (R ** 2 - r ** 2)\n",
        "  print(area)\n",
        "\n",
        "corona(8,6)"
      ],
      "execution_count": 0,
      "outputs": [
        {
          "output_type": "stream",
          "text": [
            "87.96459430051421\n"
          ],
          "name": "stdout"
        }
      ]
    },
    {
      "cell_type": "markdown",
      "metadata": {
        "id": "kjCoXuAdWhyO",
        "colab_type": "text"
      },
      "source": [
        "4. Crear una lista con los nombres de todas los paises del archivo [sudamerica.json](https://github.com/ryali93/UNMSM_programacion/blob/master/data/sudamerica.json)\n",
        "\n",
        "    Ayuda: *descargar el archivo JSON con la opción Raw*"
      ]
    },
    {
      "cell_type": "code",
      "metadata": {
        "id": "7OSkj04b5nip",
        "colab_type": "code",
        "colab": {
          "base_uri": "https://localhost:8080/",
          "height": 221
        },
        "outputId": "e10f24af-fb03-4e5f-dc02-2ad29ffaee63"
      },
      "source": [
        "import json\n",
        "sud = open(\"sudamerica.json\", \"r\")\n",
        "r = sud.read()\n",
        "sud.close()\n",
        "dic_sud = json.loads(r)\n",
        "\n",
        "lista = []\n",
        "for i in range(len(dic_sud['features'])):\n",
        "  lista.append(dic_sud['features'][i]['properties']['PAIS'])\n",
        "list(set(lista))"
      ],
      "execution_count": 83,
      "outputs": [
        {
          "output_type": "execute_result",
          "data": {
            "text/plain": [
              "['Chile',\n",
              " 'Bolívia',\n",
              " 'Uruguay',\n",
              " 'Ecuador',\n",
              " 'Venezuela',\n",
              " 'Colombia',\n",
              " 'Guayana Francesa',\n",
              " 'Paraguay',\n",
              " 'Guyana',\n",
              " 'Argentina',\n",
              " 'Perú',\n",
              " 'Brasil']"
            ]
          },
          "metadata": {
            "tags": []
          },
          "execution_count": 83
        }
      ]
    },
    {
      "cell_type": "markdown",
      "metadata": {
        "id": "1G5Rp42x3KHa",
        "colab_type": "text"
      },
      "source": [
        "## Nivel 4 (4 pt):"
      ]
    },
    {
      "cell_type": "markdown",
      "metadata": {
        "id": "KGJx9ZQRDwba",
        "colab_type": "text"
      },
      "source": [
        "1. Un ingeniero está realizando el diseño de un canal de regadío para un pequeño pueblo, cree una función para que, dependiendo del tipo de sección que usará, pueda saber el área, perímetro mojado, radio hidráulico y espejo de agua de su sección. (Elegir 2 tipos de sección)\n",
        "\n",
        "![](https://upload.wikimedia.org/wikipedia/commons/5/59/Radio_Hidr%C3%A1ulico_geometria_fundamental.gif)"
      ]
    },
    {
      "cell_type": "code",
      "metadata": {
        "id": "6Htbbvi97Jnz",
        "colab_type": "code",
        "colab": {}
      },
      "source": [
        "import math\n",
        "def calculos(tipo,b,y,z = 1):\n",
        "  if tipo== 'rectangular':\n",
        "    area=b*y\n",
        "    perimetro=b+2*y\n",
        "    radio=area/perimetro\n",
        "    espejo=b\n",
        "  if tipo=='trapezoidal':\n",
        "    area=(b+(z*y))*y\n",
        "    perimetro=b+(2*y*(math.sqrt(1+(z**2))))\n",
        "    radio=area/perimetro\n",
        "    espejo=b+(2*z*y)\n",
        "  print(\"Su forma es {} - Su area es {} - P.mojado es {} - R.Hidraulico de {}\". format(tipo,area,round(perimetro,1),round(radio),calculos('rectangular',2,2,3)))"
      ],
      "execution_count": 0,
      "outputs": []
    },
    {
      "cell_type": "markdown",
      "metadata": {
        "id": "wPPUwC7I3Ohq",
        "colab_type": "text"
      },
      "source": [
        "2. Teniendo las listas:\n",
        "\n",
        "    x = [8, 2, 11, 6, 5, 4, 12, 9, 6, 1]\n",
        "    \n",
        "    y = [3, 10, 3, 6, 8, 12, 1, 4, 9, 14]\n",
        "    \n",
        "    Calcule la pendiente de la recta\n",
        "\n",
        "    $$ m = \\frac {\\sum{xy} - \\frac{(\\sum{x}) (\\sum{y})}n} {\\sum{x}^2 - {\\frac {(\\sum{x})^2}n}} $$\n",
        "\n",
        "    Calcule la intercepción en **y** de la forma\n",
        "\n",
        "    $$ b = \\bar{y} - m\\bar{x} $$\n",
        "\n",
        "    Use la pendiente y la intercepción en y para formar la ecuación de la recta."
      ]
    }
  ]
}